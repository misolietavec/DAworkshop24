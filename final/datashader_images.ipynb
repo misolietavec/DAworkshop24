{
 "cells": [
  {
   "cell_type": "code",
   "execution_count": 1,
   "id": "190a596d-5b93-4b5a-b7a1-6e835c931ddf",
   "metadata": {},
   "outputs": [],
   "source": [
    "import polars as pl\n",
    "import datashader as ds\n",
    "from colorcet import fire\n",
    "import datashader.transfer_functions as tf\n",
    "import plotly.express as px"
   ]
  },
  {
   "cell_type": "code",
   "execution_count": 2,
   "id": "5f61bfde-ebdf-43b1-a934-3b8dc6ee4b03",
   "metadata": {},
   "outputs": [
    {
     "name": "stdout",
     "output_type": "stream",
     "text": [
      "['pick_lat', 'pick_lon', 'drop_lat', 'drop_lon', 'pick_day', 'pick_hour', 'drop_day', 'drop_hour'] (11842094, 8)\n"
     ]
    }
   ],
   "source": [
    "# dataset ma 207 MB, pouzivatel dawork00 ma lokalne fajlo\n",
    "data_file = 'data/nyc_taxi_rt.parq'\n",
    "df = pl.scan_parquet(data_file)\n",
    "df = df.select(pl.col(\"^pick_|drop_.*$\")).collect()  # mali sme v 06_Mapa...\n",
    "print(df.columns, df.shape)"
   ]
  },
  {
   "cell_type": "code",
   "execution_count": null,
   "id": "52f379ad-8513-457a-90f2-8adb4bc9031c",
   "metadata": {},
   "outputs": [],
   "source": [
    "def hours_data(df, hour, pick=True):\n",
    "    h_col = 'pick_hour' if pick else 'drop_hour'\n",
    "    lat, lon = ('pick_lat','pick_lon') if pick else ('drop_lat', 'drop_lon')\n",
    "    h_frm = df.filter(pl.col(h_col) == hour)\n",
    "    h_frm = h_frm.rename({lat: 'lat', lon: 'lon'}).select(['lat', 'lon'])\n",
    "    return h_frm"
   ]
  },
  {
   "cell_type": "code",
   "execution_count": null,
   "id": "51e91c12-0136-4e56-83a8-6149ddcbdca3",
   "metadata": {},
   "outputs": [],
   "source": [
    "c_lat, c_lon = [df['drop_lat'].mean(), df['drop_lon'].mean()]"
   ]
  },
  {
   "cell_type": "code",
   "execution_count": null,
   "id": "666818ef-eb9f-45f6-8d4e-d7642abd3425",
   "metadata": {},
   "outputs": [],
   "source": [
    "def view_ds(hour, pick=True):\n",
    "    frm = hours_data(df, hour, pick=pick)\n",
    "    frm = frm.to_pandas()\n",
    "    cvs = ds.Canvas(plot_width=1000, plot_height=710)\n",
    "    agg = cvs.points(frm, x='lon', y='lat')\n",
    "    cn_lat, cn_lon = agg.coords['lat'].values, agg.coords['lon'].values\n",
    "    coordinates = [[cn_lon[0], cn_lat[0]], [cn_lon[-1], cn_lat[0]],\n",
    "                   [cn_lon[-1], cn_lat[-1]], [cn_lon[0], cn_lat[-1]]]\n",
    "\n",
    "    img = tf.shade(agg, cmap=fire)[::-1].to_pil()\n",
    "    fig = px.scatter_mapbox(frm[:1], lat='lat', lon='lon', zoom=11, center={'lat': c_lat, 'lon': c_lon})\n",
    "    fig.update_layout(#mapbox_style=\"open-street-map\", \n",
    "                      mapbox_style='carto-darkmatter', height=710,\n",
    "                     mapbox_layers = [\n",
    "                    {\n",
    "                        \"sourcetype\": \"image\",\n",
    "                        \"source\": img,\n",
    "                        \"coordinates\": coordinates,\n",
    "                        \"opacity\": 0.9\n",
    "                    }]\n",
    "    )\n",
    "    return fig"
   ]
  },
  {
   "cell_type": "code",
   "execution_count": null,
   "id": "5378691b-45ca-49fc-b940-07985a7eda34",
   "metadata": {},
   "outputs": [],
   "source": [
    "def write_images(pick=True):\n",
    "    prefix = 'pick_' if pick else 'drop_'\n",
    "    for hour in range(24):\n",
    "        fig = view_ds(hour, pick)\n",
    "        fig.write_image(f'images/{prefix}{hour:02d}.jpg')"
   ]
  },
  {
   "cell_type": "code",
   "execution_count": null,
   "id": "7982f25c-ada9-43e8-9b3f-a08905fb0e09",
   "metadata": {},
   "outputs": [],
   "source": [
    "# write_images()\n",
    "# write_images(False)"
   ]
  }
 ],
 "metadata": {
  "kernelspec": {
   "display_name": "Python 3 (ipykernel)",
   "language": "python",
   "name": "python3"
  },
  "language_info": {
   "codemirror_mode": {
    "name": "ipython",
    "version": 3
   },
   "file_extension": ".py",
   "mimetype": "text/x-python",
   "name": "python",
   "nbconvert_exporter": "python",
   "pygments_lexer": "ipython3",
   "version": "3.11.7"
  }
 },
 "nbformat": 4,
 "nbformat_minor": 5
}
