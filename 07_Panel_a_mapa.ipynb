{
 "cells": [
  {
   "cell_type": "code",
   "execution_count": null,
   "id": "f95530b4-9d44-4aca-9e0a-c5953c8330cf",
   "metadata": {
    "tags": []
   },
   "outputs": [],
   "source": [
    "import panel as pn\n",
    "import panel.widgets as pnw\n",
    "from final.data_funkcie import pick_plot, drop_plot\n",
    "pn.extension('plotly', 'ipywidgets')"
   ]
  },
  {
   "cell_type": "markdown",
   "id": "b16eb3dd-25d2-4789-b976-f798be0a46db",
   "metadata": {},
   "source": [
    "#### Chceli by sme vyberať dni a hodiny pomocou grafických prvkov (posuvníkov). Urobíme ich."
   ]
  },
  {
   "cell_type": "code",
   "execution_count": null,
   "id": "823f7806-1c76-4223-a04b-1e3807551b84",
   "metadata": {
    "tags": []
   },
   "outputs": [],
   "source": [
    "day_choose = pnw.IntSlider(start=1, end=31, value=14, width=250, name='Deň')\n",
    "hour_choose = pnw.IntSlider(start=0, end=23, value=11, width=300, name='Hodina')"
   ]
  },
  {
   "cell_type": "code",
   "execution_count": null,
   "id": "d407f987-05f3-4e41-af09-6bb576158b91",
   "metadata": {
    "tags": []
   },
   "outputs": [],
   "source": [
    "day_choose"
   ]
  },
  {
   "cell_type": "code",
   "execution_count": null,
   "id": "752189eb-b6f1-481d-815b-c34269bc5e7b",
   "metadata": {
    "tags": []
   },
   "outputs": [],
   "source": [
    "day_choose.value = 23"
   ]
  },
  {
   "cell_type": "code",
   "execution_count": null,
   "id": "d1bd4524-2316-49a6-8c57-c3c53424699e",
   "metadata": {
    "tags": []
   },
   "outputs": [],
   "source": [
    "#### Zviažeme (`bind`) argumenty `day, hour` vo funkciach `pick_plot`\n",
    "#### `drop_plot` s hodnotami (value) tých posuvníkov"
   ]
  },
  {
   "cell_type": "code",
   "execution_count": null,
   "id": "3e26ce2c-af88-49fb-aa51-b3fcf7189efc",
   "metadata": {
    "tags": []
   },
   "outputs": [],
   "source": [
    "bind_pick = pn.bind(pick_plot, day=day_choose, hour=hour_choose)\n",
    "bind_drop = pn.bind(drop_plot, day=day_choose, hour=hour_choose)"
   ]
  },
  {
   "cell_type": "code",
   "execution_count": null,
   "id": "9b534691-7f5d-466c-945b-9aecd33262f2",
   "metadata": {
    "tags": []
   },
   "outputs": [],
   "source": [
    "# zobrazime posuvniky a pod nimi mapy, podobne ako v NB _06\n",
    "pn.Column(pn.Row(day_choose, hour_choose), pn.Row(bind_pick, bind_drop)).servable()\n",
    "# ukazat Panel preview - ukaze sa len to, co je 'servable'"
   ]
  },
  {
   "cell_type": "markdown",
   "id": "4ea17f58-e790-41ea-a48b-11ad7affc6bf",
   "metadata": {},
   "source": [
    "### Toto je princíp celej panel aplikácie, ktorú urobíme v nasledujúcom NB."
   ]
  }
 ],
 "metadata": {
  "kernelspec": {
   "display_name": "Python 3 (ipykernel)",
   "language": "python",
   "name": "python3"
  },
  "language_info": {
   "codemirror_mode": {
    "name": "ipython",
    "version": 3
   },
   "file_extension": ".py",
   "mimetype": "text/x-python",
   "name": "python",
   "nbconvert_exporter": "python",
   "pygments_lexer": "ipython3",
   "version": "3.11.7"
  }
 },
 "nbformat": 4,
 "nbformat_minor": 5
}
