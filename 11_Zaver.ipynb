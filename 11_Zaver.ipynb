{
 "cells": [
  {
   "cell_type": "markdown",
   "id": "8b208260-ce21-4681-a662-6ee236480392",
   "metadata": {},
   "source": [
    "## Odkazy na použité nástroje\n",
    "- ### polars: https://pola.rs/\n",
    "- ### plotly: https://plotly.com/python/\n",
    "- ### panel:  https://panel.holoviz.org/\n",
    "- ### marimo: https://docs.marimo.io/\n",
    "- ### datashader: https://datashader.org/"
   ]
  },
  {
   "cell_type": "markdown",
   "id": "70cabc4a-a54b-4557-acd1-450da1163969",
   "metadata": {},
   "source": [
    "## Odkaz na github, jupyterlite implementácia:\n",
    "- ### https://misolietavec.github.io/dawork_jupyterlite (podadresár `final_dawork`)"
   ]
  },
  {
   "cell_type": "markdown",
   "id": "6d92d222-cd93-4587-8acb-5c2d0bbd436b",
   "metadata": {},
   "source": [
    "## Odkaz na github, všetky materiály:\n",
    "- ### https://github.com/misolietavec/DAworkshop24"
   ]
  },
  {
   "cell_type": "markdown",
   "id": "7f469569-a3a5-437d-acc8-ce6d7f3469dc",
   "metadata": {
    "tags": []
   },
   "source": [
    "## Videá:\n",
    "- ### https://feelmath.eu/DAworkshop/02_Data_prvy_pohlad.mp4\n",
    "- ### https://feelmath.eu/DAworkshop/03_Celkove_grafy.mp4 \n",
    "- ### https://feelmath.eu/DAworkshop/04_Grafy_po_dnoch.mp4\n",
    "- ### https://feelmath.eu/DAworkshop/05_Histogramy.mp4\n",
    "- ### https://feelmath.eu/DAworkshop/06_Mapa_zaciatky.mp4\n",
    "- ### https://feelmath.eu/DAworkshop/07_Panel_a_mapa.mp4\n",
    "- ### https://feelmath.eu/DAworkshop/08_Panel_aplikacia.mp4"
   ]
  }
 ],
 "metadata": {
  "kernelspec": {
   "display_name": "Python 3 (ipykernel)",
   "language": "python",
   "name": "python3"
  },
  "language_info": {
   "codemirror_mode": {
    "name": "ipython",
    "version": 3
   },
   "file_extension": ".py",
   "mimetype": "text/x-python",
   "name": "python",
   "nbconvert_exporter": "python",
   "pygments_lexer": "ipython3",
   "version": "3.11.7"
  }
 },
 "nbformat": 4,
 "nbformat_minor": 5
}
