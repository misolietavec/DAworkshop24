{
 "cells": [
  {
   "cell_type": "markdown",
   "id": "de5bd8f1-e65b-462e-a198-3c8ca9621566",
   "metadata": {},
   "source": [
    "#### Na kreslenie budeme používať modul `plotly`, konkrétne `plotly.express`, čo aj vám odporúčame."
   ]
  },
  {
   "cell_type": "code",
   "execution_count": null,
   "id": "ea2d34bd-40aa-4d70-b2e8-6312b5ba7b59",
   "metadata": {
    "tags": []
   },
   "outputs": [],
   "source": [
    "import polars as pl\n",
    "import plotly.express as px\n",
    "import numpy as np  # pre vektorove operacie"
   ]
  },
  {
   "cell_type": "code",
   "execution_count": null,
   "id": "77b758ea-edbe-4dac-a64f-4b2d460b93c3",
   "metadata": {},
   "outputs": [],
   "source": [
    "# nacitame vycistenu frejmu, len stlpce, co pouzijeme v tomto NB\n",
    "cols = ['pick_dt', 'passengers', 'fare']\n",
    "df = pl.scan_parquet('data/nyc_taxi310k.parq')   # pozn. o lazy frame\n",
    "df = df.select(cols).collect()                   # collect sposobi, ze sa z lazy stane normalna frejma"
   ]
  },
  {
   "cell_type": "code",
   "execution_count": null,
   "id": "8b03ff0f-4a8a-4969-b487-105a1eaa2a3b",
   "metadata": {
    "tags": []
   },
   "outputs": [],
   "source": [
    "df.min(), df.max() # min. a max. vo vsetkych stlpcov"
   ]
  },
  {
   "cell_type": "markdown",
   "id": "a7a9d508-9929-49dc-869c-9e9d8a24915f",
   "metadata": {},
   "source": [
    "### Všetky dáta sú z januára 2015. \n",
    "#### Zoberme nástupy (pick). Chceme grafy po jednotlivých dňoch. Počet pasažierov, počet jázd, zarobené peniaze."
   ]
  },
  {
   "cell_type": "code",
   "execution_count": null,
   "id": "740f6192-6393-4ae6-a7f6-ecdf35b7d955",
   "metadata": {
    "tags": []
   },
   "outputs": [],
   "source": [
    "# pocet cestujucich, najskor bez 'alias'\n",
    "(df.group_by(pl.col('pick_dt').dt.day())\n",
    "            .agg(pl.col('passengers').sum()))\n",
    "           \n",
    "df_days = (df.group_by(pl.col('pick_dt').dt.day().alias('pick_day'))\n",
    "             .agg(pl.col('passengers').sum().alias('pass_count')))"
   ]
  },
  {
   "cell_type": "code",
   "execution_count": null,
   "id": "ce8e6fdf-d55a-4256-9f27-03acf08958ce",
   "metadata": {
    "tags": []
   },
   "outputs": [],
   "source": [
    "# pred a po alias ukazat\n",
    "df_days.head()"
   ]
  },
  {
   "cell_type": "markdown",
   "id": "383ddf3f-7c35-4c06-a967-2b7a0ac11fe1",
   "metadata": {
    "tags": []
   },
   "source": [
    "### Nakreslíme stĺpcový graf, na osi x budú dni (1, 2, .... 31. jan.), na osi y počty cestujúcich"
   ]
  },
  {
   "cell_type": "code",
   "execution_count": null,
   "id": "a2432742-a406-4ba0-a7a4-86a735da9b8b",
   "metadata": {
    "tags": []
   },
   "outputs": [],
   "source": [
    "pass_plot = px.bar(df_days, x='pick_day', y='pass_count', labels={'pick_day':'Dni', 'pass_count': 'Cestujúci'})\n",
    "# dni v mesiaci chceme pre kazdy den\n",
    "pass_plot.update_layout(xaxis=dict(tickmode='array', tickvals=list(range(1, 32))));"
   ]
  },
  {
   "cell_type": "code",
   "execution_count": null,
   "id": "c17f09ee-394e-4640-99c9-32ab792413f3",
   "metadata": {
    "tags": []
   },
   "outputs": [],
   "source": [
    "pass_plot\n",
    "# ukazat hover a nastroje plotly"
   ]
  },
  {
   "cell_type": "markdown",
   "id": "618d7aeb-50f7-4e21-bf6f-87c66a037246",
   "metadata": {},
   "source": [
    "## Čo za katastrófa sa stala 27. januára? Strašný pokles oproti iným dňom.\n",
    "#### Vidíme nejakú (približnú) periodicitu v dátach?\n",
    "### Podobné grafy by sme chceli pre počty jázd a pre denné zárobky."
   ]
  },
  {
   "cell_type": "code",
   "execution_count": null,
   "id": "cf97d877-06e9-4f17-8bef-eef9228d580e",
   "metadata": {
    "tags": []
   },
   "outputs": [],
   "source": [
    "# zrobime frejmu, kde budu vsetky tie tri veliciny agregovane podla dni - ako hore, len zoznam troch stlpcov namiesto jedneho\n",
    "\n",
    "# df_days = \n",
    "(df.group_by(pl.col('pick_dt').dt.day().alias('pick_day'))\n",
    "             .agg([pl.col('passengers').sum().alias('pass_count'),\n",
    "                   pl.col('fare').sum().alias('day_fares'), \n",
    "                   pl.col('fare').count().alias('fares_count')])).sort(by='pick_day')\n",
    "\n",
    "# namiesto alias mozno dat nove nazvy stlpcov\n",
    "df_days = (df.group_by(pl.col('pick_dt').dt.day().alias('pick_day'))\n",
    "             .agg(pass_count=pl.col('passengers').sum(),\n",
    "                  day_fares=pl.col('fare').sum(), \n",
    "                  fares_count= pl.col('fare').count())).sort(by='pick_day')"
   ]
  },
  {
   "cell_type": "code",
   "execution_count": null,
   "id": "500b70c8-408c-47eb-a69f-6474d729fb13",
   "metadata": {
    "tags": []
   },
   "outputs": [],
   "source": [
    "# ake asi budu skutocne trzby, ked my mame vzorku 310 000 zapisov z 12 milionov\n",
    "df_days.head()"
   ]
  },
  {
   "cell_type": "code",
   "execution_count": null,
   "id": "a93877ba-63d5-444c-90d5-ef9e2149b881",
   "metadata": {
    "tags": []
   },
   "outputs": [],
   "source": [
    "# mozeme nakreslit kombinovany graf pre pocet jazd a pocet cestujucich (malo by to byt zhruba radovo rovnake)\n",
    "\n",
    "pass_fares_plot = px.bar(df_days, x='pick_day', y=['pass_count', 'fares_count'], barmode='group',)\n",
    "                         # labels={'pick_day':'Dni', 'value': 'Hodnoty', 'variable': 'Premenná'})\n",
    "# zobrazenie sa nemiesa s jeho rozpolozenim (layout)    \n",
    "# pass_fares_plot.update_layout(xaxis=dict(tickmode='array', tickvals=list(range(1, 32))))\n",
    "pass_fares_plot"
   ]
  },
  {
   "cell_type": "markdown",
   "id": "1bb2d43f-56e7-40c9-be91-f016b317eed7",
   "metadata": {},
   "source": [
    "### Grafy pre tie isté veličiny, no podľa hodín - to isté, len grupovanie podľa hodín\n",
    "Jediná funkcia pre datafrejmu a aj pre graf."
   ]
  },
  {
   "cell_type": "code",
   "execution_count": null,
   "id": "d62ab06f-a802-4d8f-be12-a5164e394aa4",
   "metadata": {
    "tags": []
   },
   "outputs": [],
   "source": [
    "def monthly_frame(frm, day=True):      # nazvy stplcov v datafrejme mozu byt aj po slovensky :-)\n",
    "    groupped = frm.group_by(pl.col('pick_dt').dt.day()) if day else\\\n",
    "               frm.group_by(pl.col('pick_dt').dt.hour())         \n",
    "    column = 'pick_day' if day else 'pick_hour'\n",
    "    df_month = groupped.agg([pl.col('fare').sum().alias('Platby'), \n",
    "                             pl.col('passengers').sum().alias('Cestujúci'),\n",
    "                             pl.col('fare').count().alias('Jazdy')]).sort(by='pick_dt')\n",
    "    df_month = df_month.rename({'pick_dt': column})   # pick_dt sa tu nehodi, bude pick_day alebo pick_hour\n",
    "    return df_month\n",
    "\n",
    "# V aplikacii budeme mat radiobox s volbami ['Podľa dní','Podľa hodín', 'Dni v týždni (nástupy)']\n",
    "\n",
    "def monthly_plot(dhc):\n",
    "    day = (dhc == 'Podľa dní')\n",
    "    xcol = 'pick_day' if day else 'pick_hour'\n",
    "    mframe = monthly_frame(df, day)\n",
    "    xcol = 'pick_day' if day else 'pick_hour'\n",
    "    xlabel = {'pick_day': 'Deň', 'pick_hour': 'Hodina'}\n",
    "    xticks = {'pick_day': list(range(1, 32)), 'pick_hour': list(range(24))}\n",
    "    pass_fares_plot = px.bar(mframe, x=xcol, y=['Cestujúci', 'Jazdy'], barmode='group',\n",
    "                             labels={xcol: xlabel[xcol], 'value': 'Hodnoty', 'variable': 'Premenná'})\n",
    "    pass_fares_plot.update_layout(xaxis=dict(tickmode='array', tickvals=xticks[xcol]))\n",
    "    return pass_fares_plot"
   ]
  },
  {
   "cell_type": "code",
   "execution_count": null,
   "id": "fe781002-1b23-4ce0-9593-a838ce7587a5",
   "metadata": {
    "tags": []
   },
   "outputs": [],
   "source": [
    "monthly_plot('Podľa dní')"
   ]
  },
  {
   "cell_type": "code",
   "execution_count": null,
   "id": "25eb3691-8c2e-4cd1-bbaf-85a915d380c9",
   "metadata": {
    "tags": []
   },
   "outputs": [],
   "source": [
    "monthly_plot('Podľa nední') #  facina, samozrejme"
   ]
  },
  {
   "cell_type": "markdown",
   "id": "84245088-49df-4967-9b5c-a467050ff2cb",
   "metadata": {},
   "source": [
    "#### Hore vyrobene dve funkcie hodime do suboru `data_funkcie.py`. V dalsich NB ich budeme odtial importovat.\n",
    "#### Nebolo by odveci, mať graf aj pre cestujúcich, jazdy podľa dní v týždni."
   ]
  },
  {
   "cell_type": "code",
   "execution_count": null,
   "id": "ad4abd06-19fb-4d70-b960-a43456400725",
   "metadata": {
    "tags": []
   },
   "outputs": [],
   "source": [
    "df_weekday = (df.group_by(pl.col('pick_dt').dt.weekday())\n",
    "                .agg(pl.col('passengers').sum().alias('pass_count'))\n",
    "                .sort(by='pick_dt'))\n",
    "df_weekday = df_weekday.rename({'pick_dt': 'pick_day'})"
   ]
  },
  {
   "cell_type": "code",
   "execution_count": null,
   "id": "4e09539a-0e1e-4039-8a72-2f60919df1d2",
   "metadata": {
    "tags": []
   },
   "outputs": [],
   "source": [
    "df_weekday  # je to len 7 poloziek, netreba head. z dokumentacie polars - 1 je pondelok\n",
    "# df_weekday['pass_count'].sum() # hruba kontrola"
   ]
  },
  {
   "cell_type": "code",
   "execution_count": null,
   "id": "323b963e-3071-4d59-b482-45b649e8bbbb",
   "metadata": {
    "tags": []
   },
   "outputs": [],
   "source": [
    "# nie je to v poriadku, nie kazdy den v tyzdni je v januari 2015 rovnaky pocet raz\n",
    "# chceme pocty za jeden pondelok, utorok, ...\n",
    "# klucove - aky den bol 1. januara 2015?\n",
    "# datetime ma funkciu weekday \n",
    "from datetime import date\n",
    "print(date(2015, 1, 1).weekday()) # 0 je tu pondelok, ... 6 je nedela - nie ako v polars"
   ]
  },
  {
   "cell_type": "code",
   "execution_count": null,
   "id": "12cf0b6f-daea-4a29-9bc7-af6532439c6d",
   "metadata": {
    "tags": []
   },
   "outputs": [],
   "source": [
    "# teda 1. jan. 2015 bol stvrtok a pocty dni v januari su\n",
    "# 1, 8, 15, 22, 29 - stvrtky, 30-pia, 31-so bude po 5, ostatne dni po 4\n",
    "pocty = np.array([4, 4, 4, 5, 5, 5, 4])  # preco nie len list?\n",
    "df_weekday = df_weekday.with_columns(pl.col('pass_count') / pocty)  # bez alias meno stlpca ostane\n",
    "df_weekday"
   ]
  },
  {
   "cell_type": "code",
   "execution_count": null,
   "id": "1ec309d8-f359-4f41-a405-fab79e36d28a",
   "metadata": {
    "tags": []
   },
   "outputs": [],
   "source": [
    "graf = px.bar(df_weekday, x='pick_day', y='pass_count', barmode='group', width=750, height=400)\n",
    "xtext = ['Pondelok', 'Utorok', 'Streda', 'Štvrtok', 'Piatok', 'Sobota', 'Nedeľa']\n",
    "graf.update_layout(xaxis=dict(tickmode='array', tickvals=list(range(1, 8)), title='Deň v týždni',\n",
    "                   ticktext=xtext, tickangle=0), yaxis=dict(title=\"Priem. počet cestujúcich\"))\n",
    "# zopakujte s count() namiesto sum() - bude priem. pocet jazd"
   ]
  },
  {
   "cell_type": "code",
   "execution_count": null,
   "id": "4454dba0-ea55-4398-a4a6-a87d7fa1e46c",
   "metadata": {},
   "outputs": [],
   "source": [
    "# zosumarizujeme, vyrobime funkcie week_plot, view_month_week a hodime ich do data_funkcie.py\n",
    "def week_plot(frm):\n",
    "    df_weekday = (frm.group_by(pl.col('pick_dt').dt.weekday())\n",
    "                     .agg(pl.col('passengers').count().alias('pass_count'))  # co keby sum namiesto count?\n",
    "                     .sort(by='pick_dt'))\n",
    "    df_weekday = df_weekday.rename({'pick_dt': 'pick_day'})\n",
    "    pocty = np.array([4, 4, 4, 5, 5, 5, 4])\n",
    "    df_weekday = df_weekday.with_columns(pl.col('pass_count') / pocty)\n",
    "    graf = px.bar(df_weekday, x='pick_day', y='pass_count', barmode='group', width=750, height=400)\n",
    "    xtext = ['Pondelok', 'Utorok', 'Streda', 'Štvrtok', 'Piatok', 'Sobota', 'Nedeľa']\n",
    "    graf.update_layout(xaxis=dict(tickmode='array', tickvals=list(range(1, 8)), title='Deň v týždni',\n",
    "                       ticktext=xtext, tickangle=0), yaxis=dict(title=\"Priem. počet cestujúcich\"))\n",
    "    return graf\n",
    "\n",
    "# v aplikacii budu tie tri grafy - mesacne podla hodin, dni a tyzdenny v jednej 'zalozke'\n",
    "\n",
    "def view_month_week(doh):\n",
    "    if doh in ['Podľa dní', 'Podľa hodín']:\n",
    "        return monthly_plot(doh)\n",
    "    return week_plot(df)"
   ]
  }
 ],
 "metadata": {
  "kernelspec": {
   "display_name": "Python 3 (ipykernel)",
   "language": "python",
   "name": "python3"
  },
  "language_info": {
   "codemirror_mode": {
    "name": "ipython",
    "version": 3
   },
   "file_extension": ".py",
   "mimetype": "text/x-python",
   "name": "python",
   "nbconvert_exporter": "python",
   "pygments_lexer": "ipython3",
   "version": "3.11.7"
  }
 },
 "nbformat": 4,
 "nbformat_minor": 5
}
