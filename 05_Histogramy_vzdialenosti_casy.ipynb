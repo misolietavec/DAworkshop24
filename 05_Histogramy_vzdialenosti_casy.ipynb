{
 "cells": [
  {
   "cell_type": "code",
   "execution_count": null,
   "id": "bd9b07a5-adf3-4601-a93e-c2a4b281d78b",
   "metadata": {
    "tags": []
   },
   "outputs": [],
   "source": [
    "# obvykly uvodny tanec\n",
    "import polars as pl\n",
    "import plotly.express as px\n",
    "import numpy as np  # potrebujeme pre histogram"
   ]
  },
  {
   "cell_type": "code",
   "execution_count": null,
   "id": "32320863-0b0a-443c-8312-ab4ffa461b7f",
   "metadata": {
    "tags": []
   },
   "outputs": [],
   "source": [
    "# nacitame vycistenu frejmu, stlpce, co pouzijeme v tomto NB, \n",
    "cols = ['pick_dt', 'drop_dt', 'distance']\n",
    "df = pl.scan_parquet('data/nyc_taxi310k.parq')\n",
    "df = df.select(cols).collect()"
   ]
  },
  {
   "cell_type": "markdown",
   "id": "c2bfbc3b-3970-4edf-b5ce-653833ab2a38",
   "metadata": {},
   "source": [
    "### V tomto NB nás budú zaujímať časy jázd a prejazdené vzdialenosti"
   ]
  },
  {
   "cell_type": "code",
   "execution_count": null,
   "id": "8b9e8307-cbfa-4355-bf42-d3889c040bba",
   "metadata": {},
   "outputs": [],
   "source": [
    "# vzdialenosti mame v stplci 'distance', ako ziskame casy?\n",
    "(df['drop_dt'] - df['pick_dt']).head(6) #.cast(pl.Float32)/1000/60"
   ]
  },
  {
   "cell_type": "code",
   "execution_count": null,
   "id": "a7f3b0f8-3b3f-418b-b2db-9d2e7285e891",
   "metadata": {
    "tags": []
   },
   "outputs": [],
   "source": [
    "# pridame ako stlpec do df\n",
    "df = df.with_columns(((pl.col('drop_dt') - pl.col('pick_dt')).cast(pl.Float32) / 1000 / 60).alias('rtimes'))\n",
    "df.head()"
   ]
  },
  {
   "cell_type": "code",
   "execution_count": null,
   "id": "aac8ece7-9edb-49ac-8a1b-133ce0750bdd",
   "metadata": {
    "tags": []
   },
   "outputs": [],
   "source": [
    "# na figu su nam teraz pick_dt a drop_dt, znicime ich\n",
    "df_dt = df.drop(['pick_dt', 'drop_dt'])  # nie je to 'in_place'\n",
    "df_dt.head()"
   ]
  },
  {
   "cell_type": "code",
   "execution_count": null,
   "id": "7e9bd282-890c-467a-8af5-a77702694677",
   "metadata": {
    "tags": []
   },
   "outputs": [],
   "source": [
    "# predbezny prieskum -rozsahy\n",
    "for col in df_dt.columns:\n",
    "    print(col, df_dt[col].min(), df_dt[col].max())"
   ]
  },
  {
   "cell_type": "code",
   "execution_count": null,
   "id": "a3f4e338-e534-4097-ab13-51d5924fa452",
   "metadata": {
    "tags": []
   },
   "outputs": [],
   "source": [
    "# ako vela je dlhych a dlhotrvajucich jazd? staci pocet\n",
    "sd = df_dt.filter(pl.col('distance') > 10).shape # skusit 20, ...\n",
    "st = df_dt.filter(pl.col('rtimes') > 30).shape # 120, 60, ...\n",
    "print(sd, st)"
   ]
  },
  {
   "cell_type": "code",
   "execution_count": null,
   "id": "e6f6dc61-33ca-44d4-9a49-71378b16bf2e",
   "metadata": {
    "tags": []
   },
   "outputs": [],
   "source": [
    "# na zaciatok pre vzd. horna hranica 10, pre casy 30\n",
    "yd, xd = np.histogram(df_dt['distance'], bins=20, range=(0, 10)) # pochopit, co to vrati\n",
    "yt, xt = np.histogram(df_dt['rtimes'], bins=20, range=(0, 30))\n",
    "# np.histogram?"
   ]
  },
  {
   "cell_type": "code",
   "execution_count": null,
   "id": "32f170e5-3c3b-447c-b34c-3ed70ca99b9d",
   "metadata": {
    "tags": []
   },
   "outputs": [],
   "source": [
    "# jedna funkcia pre kreslenie staci - aj s np.histogram vnutri\n",
    "def plot_histo(col, rozsah, nbins=20):\n",
    "    xlabel = 'Vzdialenosť (míle)' if col == 'distance' else 'Čas jazdy'\n",
    "    y, x = np.histogram(df_dt[col], range=rozsah, bins=nbins)\n",
    "    x = (x[0:-1] + x[1:]) / 2  # stredy intervalov, nie konce\n",
    "    df_hist = pl.DataFrame({'x': x, 'y': y})  # pomocna frejma\n",
    "    return px.bar(df_hist, x='x', y='y', barmode='group', \n",
    "                  labels={'x': xlabel, 'y': 'početnosť', 'variable': 'hodnota'}, width=900, height=350)"
   ]
  },
  {
   "cell_type": "code",
   "execution_count": null,
   "id": "093030c4-36c5-4e65-817d-c233f3b90ae7",
   "metadata": {
    "tags": []
   },
   "outputs": [],
   "source": [
    "plot_histo('rtimes', (0, 40), 40) # skusat 'distance', rozne nbins aj hornu hranicu\n",
    "# preco sa pri niektorom pocte binov histogram pre vzdialenosti 'rozpada' ?\n",
    "# df.filter(pl.col('distance') == pl.col('distance').round(1))"
   ]
  },
  {
   "cell_type": "code",
   "execution_count": null,
   "id": "e4ec6d4d-4b16-4cbc-be5f-a88007e78167",
   "metadata": {
    "tags": []
   },
   "outputs": [],
   "source": [
    "# plot_histo('rtimes', (0, 35), 40) "
   ]
  },
  {
   "cell_type": "markdown",
   "id": "ae7db061-f9e9-456e-8516-eeb2d15fb880",
   "metadata": {},
   "source": [
    "### Čo hovoria tie grafy? Že je to zrozumiteľnejšie, ako čísla vo frejmoch?"
   ]
  },
  {
   "cell_type": "markdown",
   "id": "656c3777-ef97-4348-8060-a4c680c5a85b",
   "metadata": {},
   "source": [
    "#### Pridáme do `datafunkcie.py` funkcie `plot_histo` aj `dt_frame` pre vyrobu datafrejmy s časmi jázd a vzdialenosťami "
   ]
  },
  {
   "cell_type": "code",
   "execution_count": null,
   "id": "65aeb76f-8ad6-4a76-8c0e-243d2ae45502",
   "metadata": {},
   "outputs": [],
   "source": [
    "def dt_frame(frm): # frm bude povodna df, vyrobime df_dt\n",
    "    df_dt = frm.with_columns(((pl.col('drop_dt') - pl.col('pick_dt')).cast(pl.Float32)/1000/60).alias('rtimes'))\n",
    "    df_dt = df_dt.drop(['pick_dt', 'drop_dt'])\n",
    "    return df_dt"
   ]
  }
 ],
 "metadata": {
  "kernelspec": {
   "display_name": "Python 3 (ipykernel)",
   "language": "python",
   "name": "python3"
  },
  "language_info": {
   "codemirror_mode": {
    "name": "ipython",
    "version": 3
   },
   "file_extension": ".py",
   "mimetype": "text/x-python",
   "name": "python",
   "nbconvert_exporter": "python",
   "pygments_lexer": "ipython3",
   "version": "3.11.7"
  }
 },
 "nbformat": 4,
 "nbformat_minor": 5
}
