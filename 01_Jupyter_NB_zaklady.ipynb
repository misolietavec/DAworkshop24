{
 "cells": [
  {
   "cell_type": "markdown",
   "metadata": {},
   "source": [
    "## Jupyter notebook - čo to je a ako s nim pracovať."
   ]
  },
  {
   "cell_type": "markdown",
   "metadata": {},
   "source": [
    "Tento webový zápisníček sa nazýva _Jupyter notebook_. Skladá sa z __buniek__ (cells) ako táto.\n",
    "\n",
    "__Aktuálna bunka__ je orámovaná výraznejším rámčekom a zvýraznenou zvislou čiarou vpravo.  __Presvedčte sa kliknutím myšou tu.__"
   ]
  },
  {
   "cell_type": "markdown",
   "metadata": {},
   "source": [
    "Do buniek môžeme písať __obyčajný text__ (bunka typu `Markdown`), to je prípad tejto bunky. __Markdown__ je jednoduchý značkovací jazyk. Keď stlačíte `Enter` v tejto bunke, uvidíte, ako to vyzerá v tom jazyku. Ľahko môžeme text formátovať (písmo tučné, kurzíva, nadpisy rôznych úrovní). __V Markdown bunkách môžeme používať aj jazyk HTML.__\n",
    "\n",
    "__Editovať bunku__ môžeme, keď hocikde vnútri bunky __dvakrát klikneme (alebo stlačíme `Enter`).__\n",
    "\n",
    "Bunky môžu tiež obsahovať __zdrojový kód__ v mnohých programovacích jazykoch (bunky typu `Code`). My budeme používať programovací jazyk _Python (verzia 3)_. Aký jazyk notebook používa, to zistíme vpravo hore. U nás je to Python 3.10.\n",
    "Koliesko napravo od jazyka ukazuje, či je notebook práve zaneprádnený počítaním (plné čierne koliesko), alebo si voľká (koliesko je pusté, ako by to malo byť práve teraz).\n",
    "\n",
    "**Bunka sa vykoná, t.j. text sa správne zobrazí** pre bunku typu `Markdown`, alebo **programovací kód sa vykoná** pre bunku typu `Code` cez \n",
    "\n",
    "- __`Shift-Enter`__ (ak sa chceme posunúť na nasledujúcu bunku),\n",
    "alebo \n",
    "- __`Ctrl-Enter`__ (ak chceme ostať v tej istej bunke).\n",
    "\n",
    "Bunky sa dajú vykonávať aj cez položku menu `Run`, no to je pucovskejšie."
   ]
  },
  {
   "cell_type": "code",
   "execution_count": null,
   "metadata": {
    "hide_input": false
   },
   "outputs": [],
   "source": [
    "# Toto je príklad bunky typu Code, ako vidno hore v menu \n",
    "# a hashkou začína komentár, ktorý si Python nevšíma. Je to len pre nás, aby sme rozumeli, čo robíme.\n",
    "# Dole je príkaz Pythonu na vypísanie pozdravu :-) Vykonajte.\n",
    "\n",
    "print(\"Nazdar svet!\")"
   ]
  },
  {
   "cell_type": "markdown",
   "metadata": {},
   "source": [
    "__Bunky sa dajú pridávať nad aktuálnu bunku__ (above) cez `Ctrl-A` alebo __pod__ (below) cez `Ctrl-B` (nezáleží, či to je malé alebo veľké `A, B`) alebo cez menu vpravo v bunke.\n",
    "\n",
    "__Aktuálnu bunku zničíme__ cez `Esc-D-D` (stlačíme krátko `Esc` a potom dvakrát D malé či veľké).\n",
    "\n",
    "Keď sme zničili omylom, cez položku menu `Edit -> Undo Cell Operation`  to odčiníme. Ale lepšie je dávať pozor :-)   \n",
    "\n",
    "__Notebook uložiť__ môžeme cez `Ctrl-S` alebo cez menu `File -> Save Notebook`. \n",
    "\n",
    "__Tu povedané si skúšajte.__\n",
    "\n",
    "__Notebook je aj celkom slušný editor.__ Funguje napr. dopĺňanie cez `TAB`."
   ]
  },
  {
   "cell_type": "markdown",
   "metadata": {},
   "source": [
    "__POZOR, na poradí vykonávania buniek záleží. Ak bunka potrebuje niečo, čo malo byť vykonané skôr, tak to vykonané byť\n",
    "musí (napr. importy v prvej bunke). Nie je dôležité v akom poradí sú bunky zapísané, ale vykonané!__\n",
    "\n",
    "Keď sa bunka typu `Code` vykoná, objaví sa v hranatých zátvorkách vľavo číslo vstupu. __Ak sa namiesto čísla objavuje hviezdička, kód sa stále vykonáva a musíme čakať.__ \n",
    "\n",
    "Ak to trvá dlho, výpočet prerušíme cez menu `Kernel -> Interrupt Kernel`, alebo ak to nepomáha, tak `Restart Kernel and Clear All Outputs` (no vtedy stratíme všetky výsledky doterajších výpočtov). "
   ]
  }
 ],
 "metadata": {
  "kernelspec": {
   "display_name": "Python 3 (ipykernel)",
   "language": "python",
   "name": "python3"
  },
  "language_info": {
   "codemirror_mode": {
    "name": "ipython",
    "version": 3
   },
   "file_extension": ".py",
   "mimetype": "text/x-python",
   "name": "python",
   "nbconvert_exporter": "python",
   "pygments_lexer": "ipython3",
   "version": "3.11.7"
  }
 },
 "nbformat": 4,
 "nbformat_minor": 4
}
