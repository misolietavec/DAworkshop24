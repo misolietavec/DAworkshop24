{
 "cells": [
  {
   "cell_type": "markdown",
   "id": "3cbca5b1-1653-45df-a6bb-2c717e235700",
   "metadata": {},
   "source": [
    "### Čoraz viac možností pre tvorbu a prezentáciu webových aplikácií v Pythone:\n",
    "- plotly dash\n",
    "- panel\n",
    "- voila\n",
    "- streamlit\n",
    "- H2O Wave\n",
    "- reacton, solara\n",
    "- mercury\n",
    "- (ipyflow) reactive Python kernel\n",
    "- **marimo**"
   ]
  },
  {
   "cell_type": "markdown",
   "id": "49b5a1ed-a060-4a7e-9273-07e94e584ceb",
   "metadata": {},
   "source": [
    "### V čom nám môže marimo pomôcť:\n",
    "- vytvorené od piky, bez závislosti na ipywidgets a jupyteri, ľahká váha :)\n",
    "- reaktívny notebook, widgety nepotrebujú callbacks, bindings, ...\n",
    "- závislosť buniek je ošetrená, keď niečo zmeníme v bunke, vykonajú (aktualizujú) sa bunky na nej závislé\n",
    "- je to normálny python skript, na rozdiel od jupyter NB\n",
    "- dobre premyslený a minimalistický dizajn, všeobecnosť\n",
    "- ľahký prechod od panel aplikácií (iné poskúšajte, v budúcnosti)"
   ]
  },
  {
   "cell_type": "markdown",
   "id": "aafe210b-dc35-42b8-bc50-f45b5da54cbb",
   "metadata": {},
   "source": [
    "## Ukážeme našu aplikáciu v marimo. \n",
    "#### Všetko z `final/data_funkcie.py` je znovu použiteľné. Namiesto `panel.widgets` \n",
    "#### bude `marimo.ui` pre grafické prvky a záložky (taby). \n",
    "#### Ako to funguje, poďme do Terminálu a tam si to pozrieme.\n",
    "#### Každý z nás bude mať editovateľný marimo NB na \"svojom\" porte na `feelmath.eu`"
   ]
  },
  {
   "cell_type": "code",
   "execution_count": null,
   "id": "6193159a-76b8-497d-8351-b339f42a41f5",
   "metadata": {},
   "outputs": [],
   "source": []
  }
 ],
 "metadata": {
  "kernelspec": {
   "display_name": "Python 3 (ipykernel)",
   "language": "python",
   "name": "python3"
  },
  "language_info": {
   "codemirror_mode": {
    "name": "ipython",
    "version": 3
   },
   "file_extension": ".py",
   "mimetype": "text/x-python",
   "name": "python",
   "nbconvert_exporter": "python",
   "pygments_lexer": "ipython3",
   "version": "3.11.7"
  }
 },
 "nbformat": 4,
 "nbformat_minor": 5
}
