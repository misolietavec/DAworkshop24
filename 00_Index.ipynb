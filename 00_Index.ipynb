{
 "cells": [
  {
   "cell_type": "markdown",
   "id": "c2ef18db-e129-4fc6-af5b-f9de2a6eb3a5",
   "metadata": {},
   "source": [
    "### <a href=\"01_Jupyter_NB_zaklady.ipynb\">Pre prvopríchodcov do prostredia Jupyter notebookov</a>"
   ]
  },
  {
   "cell_type": "markdown",
   "id": "0926b70c-1847-4350-b15d-4d3d6d0146ad",
   "metadata": {},
   "source": [
    "### <a href=\"02_Data_prvy_pohlad.ipynb\">Načítanie dát, prvý pohľad a hrubé čistenie</a>"
   ]
  },
  {
   "cell_type": "markdown",
   "id": "e1790d24-5b50-49bd-a229-a34148e1b402",
   "metadata": {},
   "source": [
    "### <a href=\"03_Prve_grafy.ipynb\">Prvé grafy, dáta za celý mesiac</a>"
   ]
  },
  {
   "cell_type": "markdown",
   "id": "d3cfd5f5-308c-49c9-ad84-278765c761a5",
   "metadata": {},
   "source": [
    "### <a href=\"04_Grafy_po_dnoch_a_hodinach.ipynb\">Grafy pre jednotlivé dni po hodinách</a>"
   ]
  },
  {
   "cell_type": "markdown",
   "id": "939854a4-fb14-42b2-82c3-a3be94ea1f3d",
   "metadata": {},
   "source": [
    "### <a href=\"05_Histogramy_vzdialenosti_casy.ipynb\">Histogramy pre časy jázd a prejazdené vzdialenosti</a>"
   ]
  },
  {
   "cell_type": "markdown",
   "id": "06f6ffae-8cca-48a8-a3ac-4288d2e89c62",
   "metadata": {},
   "source": [
    "### <a href=\"06_Mapa_konecne.ipynb\">Zobrazenie nástupov a výstupov jázd na mape</a>"
   ]
  },
  {
   "cell_type": "markdown",
   "id": "84cb9fb7-c324-45a2-850f-6a71595c4b4f",
   "metadata": {},
   "source": [
    "### <a href=\"07_Panel_a_mapa.ipynb\">Základná `panel` aplikácia (mapa)</a>"
   ]
  },
  {
   "cell_type": "markdown",
   "id": "29e94798-6e9e-410e-bbd3-c1cac19a0f3e",
   "metadata": {},
   "source": [
    "### <a href=\"07_Marimo_a_mapa.py\">Základná `marimo` aplikácia (mapa)</a>"
   ]
  },
  {
   "cell_type": "markdown",
   "id": "d2ec2081-1cb4-474f-94b6-c45bedc4cf93",
   "metadata": {},
   "source": [
    "### <a href=\"08_Panel_Aplikacia.ipynb\">Panel aplikácia skoro hotová</a>"
   ]
  },
  {
   "cell_type": "markdown",
   "id": "531a09cc-bbb7-4871-9438-ea8791a0cb34",
   "metadata": {
    "tags": []
   },
   "source": [
    "### <a href=\"08_Marimo_Aplikacia.py\">To isté s `marimo`</a>"
   ]
  },
  {
   "cell_type": "markdown",
   "id": "71dad5b7-d45d-4e0d-9026-75cd93c40f13",
   "metadata": {},
   "source": [
    "### <a href=\"09_Marimo_mapa_vyber.py\">Marimo, výber na mape. Ako s panelom? Pomooóc!</a>"
   ]
  },
  {
   "cell_type": "markdown",
   "id": "6a0f65ec-6a45-42a6-b8d5-ff00ecf8ba7e",
   "metadata": {
    "tags": []
   },
   "source": [
    "### <a href=\"Mapa_ipyleaflet.ipynb\">Mapy s použitím `ipyleaflet` namiesto `plotly`</a>"
   ]
  },
  {
   "cell_type": "markdown",
   "id": "ca86fa6c-556e-4fd8-9105-1c7be3ad855e",
   "metadata": {},
   "source": [
    "### <a href=\"Marimo_pokec.ipynb\">Marimo pokec</a>"
   ]
  },
  {
   "cell_type": "markdown",
   "id": "ef62430b-088c-4a1c-af3a-142f95e1547d",
   "metadata": {
    "tags": []
   },
   "source": [
    "### <a href=\"10_Co_by_sa_dalo.ipynb\">Čo by sa ešte dalo s dátami robiť</a>"
   ]
  },
  {
   "cell_type": "markdown",
   "id": "1336be34-a7aa-4715-9446-72f9454db48c",
   "metadata": {},
   "source": [
    "### <a href=\"11_Zaver.ipynb\">Záver, odkazy</a>"
   ]
  }
 ],
 "metadata": {
  "kernelspec": {
   "display_name": "Python 3 (ipykernel)",
   "language": "python",
   "name": "python3"
  },
  "language_info": {
   "codemirror_mode": {
    "name": "ipython",
    "version": 3
   },
   "file_extension": ".py",
   "mimetype": "text/x-python",
   "name": "python",
   "nbconvert_exporter": "python",
   "pygments_lexer": "ipython3",
   "version": "3.11.7"
  }
 },
 "nbformat": 4,
 "nbformat_minor": 5
}
