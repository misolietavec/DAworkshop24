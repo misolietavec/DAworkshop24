{
 "cells": [
  {
   "cell_type": "markdown",
   "id": "c2ef18db-e129-4fc6-af5b-f9de2a6eb3a5",
   "metadata": {},
   "source": [
    "### <a href=\"01_Jupyter_NB_zaklady.ipynb\">Pre prvopríchodcov do prostredia Jupyter notebookov</a>"
   ]
  },
  {
   "cell_type": "markdown",
   "id": "0926b70c-1847-4350-b15d-4d3d6d0146ad",
   "metadata": {},
   "source": [
    "### <a href=\"02_Data_prvy_pohlad.ipynb\">Načítanie dát, prvý pohľad a hrubé čistenie</a>"
   ]
  },
  {
   "cell_type": "markdown",
   "id": "e1790d24-5b50-49bd-a229-a34148e1b402",
   "metadata": {},
   "source": [
    "### <a href=\"03_Prve_grafy.ipynb\">Prvé grafy, dáta za celý mesiac</a>"
   ]
  },
  {
   "cell_type": "markdown",
   "id": "d3cfd5f5-308c-49c9-ad84-278765c761a5",
   "metadata": {},
   "source": [
    "### <a href=\"04_Grafy_po_dnoch_a_hodinach.ipynb\">Grafy pre jednotlivé dni po hodinách</a>"
   ]
  },
  {
   "cell_type": "markdown",
   "id": "939854a4-fb14-42b2-82c3-a3be94ea1f3d",
   "metadata": {},
   "source": [
    "### <a href=\"05_Histogramy_vzdialenosti_casy.ipynb\">Histogramy pre časy jázd a prejazdené vzdialenosti</a>"
   ]
  }
 ],
 "metadata": {
  "kernelspec": {
   "display_name": "Python 3 (ipykernel)",
   "language": "python",
   "name": "python3"
  },
  "language_info": {
   "codemirror_mode": {
    "name": "ipython",
    "version": 3
   },
   "file_extension": ".py",
   "mimetype": "text/x-python",
   "name": "python",
   "nbconvert_exporter": "python",
   "pygments_lexer": "ipython3",
   "version": "3.11.7"
  }
 },
 "nbformat": 4,
 "nbformat_minor": 5
}
