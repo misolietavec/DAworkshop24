{
 "cells": [
  {
   "cell_type": "markdown",
   "id": "35ccbd04-31db-46ab-b05a-111ce33d8308",
   "metadata": {},
   "source": [
    "### `Datashader` - modul pre inteligentné zobrazenie obrovského množstva dát.\n",
    "#### Napr. naša pôvodná datafrejma mala vyše 11 mil. zápisov. To zobraziť na mape nemožno (ani v `plotly` ani v `ipyleaflet`).\n",
    "#### Ako by sme to robili s modulom `datashader`, je v notebooku  <a href=\"final/datashader_images.ipynb\">Generovanie obrázkov pre jednotlivé hodiny na mape</a>\n",
    "#### Len si to pozrieme, my tie obrázky už máme hotové a ďalej ich použijeme"
   ]
  },
  {
   "cell_type": "code",
   "execution_count": null,
   "id": "c65c8473-35bc-4dfa-ba52-9c9844bcdc65",
   "metadata": {
    "tags": []
   },
   "outputs": [],
   "source": [
    "from PIL import Image\n",
    "import panel as pn\n",
    "import panel.widgets as pnw\n",
    "pn.extension()"
   ]
  },
  {
   "cell_type": "code",
   "execution_count": null,
   "id": "ccec5b8a-fc09-41fa-b275-3f2a01d4f465",
   "metadata": {
    "tags": []
   },
   "outputs": [],
   "source": [
    "pick_images, drop_images = {}, {}\n",
    "for hour in range(24):\n",
    "    pick_images[hour] = Image.open(f'final/images/pick_{hour:02d}.jpg')\n",
    "    drop_images[hour] = Image.open(f'final/images/drop_{hour:02d}.jpg')\n",
    "\n",
    "\n",
    "def view_shaded(hour, direct):\n",
    "    images = pick_images if (direct == 'Nástup') else drop_images\n",
    "    return images[hour]"
   ]
  },
  {
   "cell_type": "code",
   "execution_count": null,
   "id": "d328912c-f3a6-45bc-9934-c711ab0fb348",
   "metadata": {
    "tags": []
   },
   "outputs": [],
   "source": [
    "hour_select = pnw.IntSlider(start=0, end=23, value=11, width=300, name='Hodina')\n",
    "dir_select  = pnw.RadioBoxGroup(options=['Nástup','Výstup'], inline=True)\n",
    "# namiesto posuvnika nech je prehravac\n",
    "hour_player = pnw.DiscretePlayer(options=list(range(24)), interval=200, value=0, show_loop_controls=False)\n",
    "bind_shaded = pn.bind(view_shaded, hour=hour_player, direct=dir_select)"
   ]
  },
  {
   "cell_type": "markdown",
   "id": "d8f78560-4d88-4b25-a613-80579ce81997",
   "metadata": {
    "tags": []
   },
   "source": [
    "#### Zobrazíme tu, no nebolo by ťažké pridať to ako záložku (tab) do `08_Panel_Aplikacia`"
   ]
  },
  {
   "cell_type": "code",
   "execution_count": null,
   "id": "453f2f3e-dfb9-4fcf-8e40-1aa4369cec6e",
   "metadata": {
    "tags": []
   },
   "outputs": [],
   "source": [
    "# pn.Column(pn.Row(hour_select, dir_select), bind_shaded)\n",
    "pn.Column(pn.Row(hour_player, dir_select), bind_shaded)"
   ]
  },
  {
   "cell_type": "markdown",
   "id": "966c02a1-0e7e-4e20-af33-b27c7dde7b4b",
   "metadata": {},
   "source": [
    "## Čistenie údajov.\n",
    "####  My sme to mali ľahké, na vzorke 310000 údajov. V celkovej datafrejme s 11842094 údajmi sa nájdu napr.\n",
    "####  záporné platby a tringelty, alebo jazdy, kde vodič skončil skôr, ako vyštartoval, no dal si zaplatiť, atď. \n",
    "####  Zle sa čistí hlavne to, čo nie je zjavné, ako hrubá chyba. Odkaz na pôvodné dáta bude v záverečnom NB."
   ]
  },
  {
   "cell_type": "markdown",
   "id": "2d8730f8-debd-48a8-b299-dfaf1825ce24",
   "metadata": {},
   "source": [
    "## Sledovanie nástupov a výstupov na vybraných častiach mapy \n",
    "### (napr. letisko, prístavy, centrum Manhattanu). \n",
    "### Že to ide (s `plotly` mapami), vidíme na http://feelmath.eu:2025/ a v `marimo` sme si ukázali.\n",
    "### **Pomôžete s panelom?**\n",
    "\n",
    "## Isto vás napadne ešte veľa, čo by sa dalo s týmito, \n",
    "## alebo inými dátami o newyorkských taxikároch robiť..."
   ]
  }
 ],
 "metadata": {
  "kernelspec": {
   "display_name": "Python 3 (ipykernel)",
   "language": "python",
   "name": "python3"
  },
  "language_info": {
   "codemirror_mode": {
    "name": "ipython",
    "version": 3
   },
   "file_extension": ".py",
   "mimetype": "text/x-python",
   "name": "python",
   "nbconvert_exporter": "python",
   "pygments_lexer": "ipython3",
   "version": "3.11.7"
  }
 },
 "nbformat": 4,
 "nbformat_minor": 5
}
