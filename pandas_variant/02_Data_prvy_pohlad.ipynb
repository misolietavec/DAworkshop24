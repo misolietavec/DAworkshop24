{
 "cells": [
  {
   "cell_type": "markdown",
   "id": "4a3d382a-17bc-4b08-bf2e-387237b1baff",
   "metadata": {
    "tags": []
   },
   "source": [
    "#### Sme v Jupyter(lab) notebooku, ktorý mnohí poznáme a máme radi. \n",
    "#### Tí, čo ho nepoznajú, hádam ho s nami spoznajú z tej lepšej stránky. :-)\n",
    "#### Notebook sa skladá z buniek, ako je táto, v ktorej práve sme (modrý pasik vľavo).\n",
    "#### Bunky môžu byť typu `Markdown` (text, pokec) a `Code`, bunky s vykonávateľným Python kódom.\n",
    "<hr/>"
   ]
  },
  {
   "cell_type": "markdown",
   "id": "74be90d5-c259-4e0a-8295-d54b12a4a44a",
   "metadata": {
    "tags": []
   },
   "source": [
    "#### Treba nám dáta. Ak ich máme, môžeme rozmýšľať, ako ich čo najnázornejšie interpretovať.\n",
    "#### Dnes nás budú sprevádzať __údaje o taxikároch v New Yorku__. Nie všetky, čo máme (vyše 11 mil. jázd).\n",
    "#### Použijeme vzorku 310000 záznamov. Na prácu s dátami použijeme modul `polars` (rýchle `pandas`).\n",
    "#### Importujeme ho. Bunku (typu `code`) vykonáme cez `Shift-Enter`, tým sa aj posunieme do ďalšej bunky."
   ]
  },
  {
   "cell_type": "code",
   "execution_count": null,
   "id": "9f6f9ed7-5297-4380-865a-1abc9a6d2588",
   "metadata": {
    "tags": []
   },
   "outputs": [],
   "source": [
    "# komentar - preco nie pandas (rychlost, jednoduchost, perspektivnost)\n",
    "import pandas as pd"
   ]
  },
  {
   "cell_type": "code",
   "execution_count": null,
   "id": "57e3d048-574f-495e-a5d8-01e695cea549",
   "metadata": {
    "tags": []
   },
   "outputs": [],
   "source": [
    "# nacitanie dat zo suboru, skusme si doplnanie cez TAB a pozrieme, kolko je moznosti nacitania\n",
    "df = pd.read_parquet('data/nyc_taxi_sample.parq')"
   ]
  },
  {
   "cell_type": "code",
   "execution_count": null,
   "id": "3fba3bb9-2b76-41cb-a4df-e6d849eeb24f",
   "metadata": {
    "tags": []
   },
   "outputs": [],
   "source": [
    "df.describe()"
   ]
  },
  {
   "cell_type": "code",
   "execution_count": null,
   "id": "9d49bd16-99c3-4b54-a564-6b5c72a7a38b",
   "metadata": {
    "tags": []
   },
   "outputs": [],
   "source": [
    "# co je df - DataFrame, tabulka s pomenovanymi stlpcami. ake su nase?\n",
    "print(df.columns)   # co je co, uhadneme?"
   ]
  },
  {
   "cell_type": "code",
   "execution_count": null,
   "id": "661733df-1586-42d3-ade6-f0d07286bd07",
   "metadata": {
    "tags": []
   },
   "outputs": [],
   "source": [
    "# pozrieme datam na hlavu, alebo chvost, nie je explicitny index, iba cisla riadkov ako v zozname, list\n",
    "df.head(8) # .tail()  # funkcii podhodit aka velka ma byt"
   ]
  },
  {
   "cell_type": "code",
   "execution_count": null,
   "id": "7539c36a-22f8-4c8b-9751-0847151ccc08",
   "metadata": {
    "tags": []
   },
   "outputs": [],
   "source": [
    "# len vybrane stlpce\n",
    "df[['pick_dt', 'drop_dt']].head()  # zacina retazenie. zmenila sa df?\n",
    "datumy = df[['pick_dt', 'drop_dt']]\n",
    "datumy.head()"
   ]
  },
  {
   "cell_type": "code",
   "execution_count": null,
   "id": "d002525b-bf56-449e-8630-48fc0f7d18c9",
   "metadata": {
    "tags": []
   },
   "outputs": [],
   "source": [
    "# filtrovanie dat - co takto dostaneme?\n",
    "from datetime import timedelta\n",
    "# datumy[datumy['drop_dt'] < datumy['pick_dt']]\n",
    "# datumy[datumy['drop_dt'] - datumy['pick_dt'] < timedelta(seconds=1)].shape\n",
    "datumy[datumy['drop_dt'] - datumy['pick_dt'] > timedelta(hours=1)].shape\n",
    "# datumy.filter(pl.col('drop_dt') - pl.col('pick_dt') > pl.duration(hours=1)).sort(by='pick_dt')\n",
    "# datumy.filter(pl.col('drop_dt').dt.day() > pl.col('pick_dt').dt.day()).head() "
   ]
  },
  {
   "cell_type": "code",
   "execution_count": null,
   "id": "7bccdb6b-da7c-4b96-985d-a60c0d839b58",
   "metadata": {
    "tags": []
   },
   "outputs": [],
   "source": [
    "def to_minutes(td):\n",
    "    return td.days * 60 * 24 + td.seconds / 60"
   ]
  },
  {
   "cell_type": "code",
   "execution_count": null,
   "id": "5572b869-a69f-4ff8-8c6e-362831f86eb8",
   "metadata": {
    "tags": []
   },
   "outputs": [],
   "source": [
    "df['rtime'] = (datumy['drop_dt'] - datumy['pick_dt']).apply(to_minutes).astype('float32')"
   ]
  },
  {
   "cell_type": "code",
   "execution_count": null,
   "id": "0304ea6d-3626-434d-b42b-23b1aef03776",
   "metadata": {
    "tags": []
   },
   "outputs": [],
   "source": [
    "df['rtime'].head()"
   ]
  },
  {
   "cell_type": "code",
   "execution_count": null,
   "id": "e69fffcf-8e3c-4641-8c5e-179d589fccc2",
   "metadata": {
    "tags": []
   },
   "outputs": [],
   "source": [
    "# rozsah datumov\n",
    "piky = df['pick_dt']  # rozdiel oproti datumy['pick_dt'] (ako v polars)\n",
    "dropy = df['drop_dt']\n",
    "# datumy['pick_dt']   # .columns\n",
    "dropy.min(), dropy.max()"
   ]
  },
  {
   "cell_type": "markdown",
   "id": "a87bf369-d48a-406e-aadd-4be0a3fef590",
   "metadata": {},
   "source": [
    "### Niektoré jazdy nedávajú zmysel. Porozmýšľame, vyčistíme."
   ]
  },
  {
   "cell_type": "code",
   "execution_count": null,
   "id": "f9f1e712-aeae-4c77-b682-d785466840dd",
   "metadata": {
    "tags": []
   },
   "outputs": [],
   "source": [
    "# velke casy jazd 1440/60 je 24 hod.!\n",
    "# df_rtimes = \n",
    "df[df['rtime'] > 1400].shape # asi im osmyklo o den, dame prec"
   ]
  },
  {
   "cell_type": "code",
   "execution_count": null,
   "id": "c79a2d3e-37af-4152-a98a-1744bfb8766f",
   "metadata": {
    "tags": []
   },
   "outputs": [],
   "source": [
    "df['rtime'].max()"
   ]
  },
  {
   "cell_type": "code",
   "execution_count": null,
   "id": "39b22eb0-4e66-4c1d-8592-b281aaa87c25",
   "metadata": {
    "tags": []
   },
   "outputs": [],
   "source": [
    "# co je tu podozrive?\n",
    "df[df['passengers'] == 0] #  & (pl.col('fare') > 0)) # ako interpretovat?\n",
    "# df_rtimes.filter((pl.col('fare') <= 0)) # .select(pl.col('distance')).max()\n",
    "# df.filter((pl.col('tip') < 0))"
   ]
  },
  {
   "cell_type": "code",
   "execution_count": null,
   "id": "e9ee1f7a-6c35-49a2-98a0-3044162aac84",
   "metadata": {
    "tags": []
   },
   "outputs": [],
   "source": [
    "# ako rozhodneme?\n",
    "# co s nulovymi vzdialenostami? zapornymi platbami?\n",
    "# ..."
   ]
  },
  {
   "cell_type": "code",
   "execution_count": null,
   "id": "1722841f-d981-4df2-b6d2-2f9dbf27ba9b",
   "metadata": {
    "tags": []
   },
   "outputs": [],
   "source": [
    "# ked 0 dat 1 pasaziera, hoci  by bol aj taxikar, neskor vycistime nezalatene\n",
    " \n",
    "df['passengers'] = df['passengers'].where(df['passengers'] > 0, other=1)"
   ]
  },
  {
   "cell_type": "code",
   "execution_count": null,
   "id": "942a2d87-70f2-4f15-b2ce-3a31a058c05e",
   "metadata": {
    "tags": []
   },
   "outputs": [],
   "source": [
    "df['passengers'].min()"
   ]
  },
  {
   "cell_type": "code",
   "execution_count": null,
   "id": "3e44c7d8-ef35-4a37-965a-84d5e3382e9c",
   "metadata": {
    "tags": []
   },
   "outputs": [],
   "source": [
    "df.shape"
   ]
  },
  {
   "cell_type": "code",
   "execution_count": null,
   "id": "47dbe7eb-47de-41c1-a6f7-6a09d08ebe20",
   "metadata": {
    "tags": []
   },
   "outputs": [],
   "source": [
    "# odstranit zaporne a nulove platby\n",
    "df = df[df['fare'] > 0]"
   ]
  },
  {
   "cell_type": "code",
   "execution_count": null,
   "id": "efe7e500-bf7f-4a46-9a93-e4499f7f58a3",
   "metadata": {
    "tags": []
   },
   "outputs": [],
   "source": [
    "# podozrivo velka max. vzdialenost, kde to bolo? neustriehli sme...\n",
    "# df_rtimes.filter(pl.col('distance') == df_rtimes['distance'].max())\n",
    "df = df[df['distance'] < 45] # hadam v NY nebudu vacsie vzdial."
   ]
  },
  {
   "cell_type": "code",
   "execution_count": null,
   "id": "31a719e7-bc4b-4106-8658-8fa46678f0fb",
   "metadata": {
    "tags": []
   },
   "outputs": [],
   "source": [
    "# velka platba, 500 $\n",
    "# df_rtimes.filter(pl.col('fare') == df_rtimes['fare'].max())\n",
    "# nechame pod 90 $ a tringel pod 40 $\n",
    "df = df[df['fare'] < 90]\n",
    "df = df[df['tip'] < 40]"
   ]
  },
  {
   "cell_type": "code",
   "execution_count": null,
   "id": "fe01c84d-f8bf-416f-bcdb-75787749cc10",
   "metadata": {
    "tags": []
   },
   "outputs": [],
   "source": [
    "df = df[df['rtime'] < 120]"
   ]
  },
  {
   "cell_type": "code",
   "execution_count": null,
   "id": "c7dfe15f-40e3-4d4e-869d-73a74ac1cc44",
   "metadata": {
    "tags": []
   },
   "outputs": [],
   "source": [
    "# zapiseme a dalej budeme robit s touto framou\n",
    "print(df.shape)\n",
    "df.to_parquet('data/nyc_taxi310k.parq')"
   ]
  },
  {
   "cell_type": "markdown",
   "id": "6d62ba1e-54cd-4a1f-bc69-60eea86225da",
   "metadata": {},
   "source": [
    "#### Zhrnutie, čo vieme\n",
    "- `select, filter, with_columns, alias`\n",
    "- pridali sme stĺpec `rtimes`, trvanie jázd"
   ]
  }
 ],
 "metadata": {
  "kernelspec": {
   "display_name": "Python 3 (ipykernel)",
   "language": "python",
   "name": "python3"
  },
  "language_info": {
   "codemirror_mode": {
    "name": "ipython",
    "version": 3
   },
   "file_extension": ".py",
   "mimetype": "text/x-python",
   "name": "python",
   "nbconvert_exporter": "python",
   "pygments_lexer": "ipython3",
   "version": "3.11.7"
  }
 },
 "nbformat": 4,
 "nbformat_minor": 5
}
