{
 "cells": [
  {
   "cell_type": "code",
   "execution_count": null,
   "id": "bd9b07a5-adf3-4601-a93e-c2a4b281d78b",
   "metadata": {
    "tags": []
   },
   "outputs": [],
   "source": [
    "# obvykly uvodny tanec\n",
    "import pandas as pd\n",
    "import plotly.express as px\n",
    "import numpy as np  # potrebujeme pre histogram"
   ]
  },
  {
   "cell_type": "code",
   "execution_count": null,
   "id": "32320863-0b0a-443c-8312-ab4ffa461b7f",
   "metadata": {
    "tags": []
   },
   "outputs": [],
   "source": [
    "# nacitame vycistenu frejmu, stlpce, co pouzijeme v tomto NB, \n",
    "cols = ['distance', 'rtime']\n",
    "df_dt = pd.read_parquet('data/nyc_taxi310k.parq', columns=cols)\n",
    "df_dt.columns"
   ]
  },
  {
   "cell_type": "markdown",
   "id": "c2bfbc3b-3970-4edf-b5ce-653833ab2a38",
   "metadata": {},
   "source": [
    "### V tomto NB nás budú zaujímať časy jázd a prejazdené vzdialenosti"
   ]
  },
  {
   "cell_type": "code",
   "execution_count": null,
   "id": "7e9bd282-890c-467a-8af5-a77702694677",
   "metadata": {
    "tags": []
   },
   "outputs": [],
   "source": [
    "# predbezny prieskum -rozsahy\n",
    "for col in df_dt.columns:\n",
    "    print(col, df_dt[col].min(), df_dt[col].max())"
   ]
  },
  {
   "cell_type": "code",
   "execution_count": null,
   "id": "a3f4e338-e534-4097-ab13-51d5924fa452",
   "metadata": {
    "tags": []
   },
   "outputs": [],
   "source": [
    "# ako vela je dlhych a dlhotrvajucich jazd? staci pocet\n",
    "sd = df_dt[df_dt['distance'] > 15] # skusit 20, ...\n",
    "st = df_dt[df_dt['rtime'] > 60] # 120, 60, ...\n",
    "print(sd, st)"
   ]
  },
  {
   "cell_type": "code",
   "execution_count": null,
   "id": "e6f6dc61-33ca-44d4-9a49-71378b16bf2e",
   "metadata": {
    "tags": []
   },
   "outputs": [],
   "source": [
    "# na zaciatok pre vzd. horna hranica 10, pre casy 30\n",
    "# motivacia - kvantil - aka cast z 1 je nalavo od neho\n",
    "# df_dt['distance'].quantile(0.97)\n",
    "# df_dt['rtime'].quantile(0.97)\n",
    "# pochopit, co to vrati\n",
    "yt, xt = np.histogram(df_dt['rtime'], bins=20, range=(0, 40))\n",
    "print(yt, xt)"
   ]
  },
  {
   "cell_type": "code",
   "execution_count": null,
   "id": "32f170e5-3c3b-447c-b34c-3ed70ca99b9d",
   "metadata": {
    "tags": []
   },
   "outputs": [],
   "source": [
    "# jedna funkcia pre kreslenie staci - aj s np.histogram vnutri, potom dve funkcie pre vzdial. a casy\n",
    "def plot_histo(col, rozsah, nbins=20, quant=50):\n",
    "    xlabel = 'Vzdialenosť (míle)' if col == 'distance' else 'Čas jazdy'\n",
    "    y, x = np.histogram(df_dt[col], range=rozsah, bins=nbins)\n",
    "    x = (x[0:-1] + x[1:]) / 2  # stredy intervalov, nie konce\n",
    "    df_hist = pd.DataFrame({'x': x, 'y': y})  # pomocna frejma\n",
    "    rt_plot = px.bar(df_hist, x='x', y='y', barmode='group', \n",
    "                     labels={'x': xlabel, 'y': 'početnosť', 'variable': 'hodnota'}, width=900, height=350)\n",
    "    rt_plot.add_vline(df_dt[col].quantile(quant / 100), line={'color':'red'})\n",
    "    return rt_plot\n",
    "\n",
    "def histo_dists(bins):\n",
    "    return plot_histo('distance', (0, 8), bins)\n",
    "\n",
    "def histo_times(bins):\n",
    "    return plot_histo('rtime', (0, 35), bins)"
   ]
  },
  {
   "cell_type": "code",
   "execution_count": null,
   "id": "093030c4-36c5-4e65-817d-c233f3b90ae7",
   "metadata": {
    "tags": []
   },
   "outputs": [],
   "source": [
    "plot_histo('rtime', (0, 40), 40) # skusat 'distance', rozne nbins aj hornu hranicu"
   ]
  },
  {
   "cell_type": "code",
   "execution_count": null,
   "id": "e4ec6d4d-4b16-4cbc-be5f-a88007e78167",
   "metadata": {
    "tags": []
   },
   "outputs": [],
   "source": [
    "plot_histo('distance', (0, 8), 80)\n",
    "# preco sa pri niektorom pocte binov histogram pre vzdialenosti 'rozpada' ?\n",
    "# df.filter(pl.col('distance') == pl.col('distance').round(1))"
   ]
  },
  {
   "cell_type": "markdown",
   "id": "ae7db061-f9e9-456e-8516-eeb2d15fb880",
   "metadata": {},
   "source": [
    "### Čo hovoria tie grafy? Že je to zrozumiteľnejšie, ako čísla vo frejmoch?"
   ]
  },
  {
   "cell_type": "markdown",
   "id": "656c3777-ef97-4348-8060-a4c680c5a85b",
   "metadata": {},
   "source": [
    "#### Pridáme do `datafunkcie.py` funkcie `plot_histo`, `histo_times`, `histo_dists`\n",
    "#### pre vyrobu datafrejmy s časmi jázd a vzdialenosťami "
   ]
  }
 ],
 "metadata": {
  "kernelspec": {
   "display_name": "Python 3 (ipykernel)",
   "language": "python",
   "name": "python3"
  },
  "language_info": {
   "codemirror_mode": {
    "name": "ipython",
    "version": 3
   },
   "file_extension": ".py",
   "mimetype": "text/x-python",
   "name": "python",
   "nbconvert_exporter": "python",
   "pygments_lexer": "ipython3",
   "version": "3.11.7"
  }
 },
 "nbformat": 4,
 "nbformat_minor": 5
}
