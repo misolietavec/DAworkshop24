{
 "cells": [
  {
   "cell_type": "markdown",
   "id": "6654babe-8584-4dae-aaa4-7f83c9414d1a",
   "metadata": {
    "tags": []
   },
   "source": [
    "### Zaujímame sa o miesta na mape, kde ľudia nastupovali a vystupovali. \n",
    "### Nakreslíme podľa dní aj hodín.\n",
    "#### Na to môžeme použiť už známy modul `plotly`, alebo špeciálny mapový modul `ipyleaflet`. Nech je zatiaľ `plotly`, konkrétne funkcia `px.scatter_mapbox`."
   ]
  },
  {
   "cell_type": "code",
   "execution_count": null,
   "id": "74d820da-d0a4-4f5e-9bdf-90a204aaf771",
   "metadata": {
    "tags": []
   },
   "outputs": [],
   "source": [
    "import pandas as pd\n",
    "import plotly.express as px\n",
    "\n",
    "# zaciname pouzivat modul panel pre webovu aplikaciu, zatial len pre zobrazenie dvoch grafov vedla seba\n",
    "import panel as pn \n",
    "pn.extension('plotly')  # toto je nutne, aby panel dobre spolupracoval s plotly"
   ]
  },
  {
   "cell_type": "code",
   "execution_count": null,
   "id": "3f849257-cca4-4108-8593-a07d6646c104",
   "metadata": {
    "tags": []
   },
   "outputs": [],
   "source": [
    "df_pickdrop = pd.read_parquet('data/nyc_taxi310k.parq')"
   ]
  },
  {
   "cell_type": "code",
   "execution_count": null,
   "id": "d8a9caf3-4260-4849-a15c-3db79a07c3dd",
   "metadata": {
    "tags": []
   },
   "outputs": [],
   "source": [
    "# vyberieme data pre nejaky den a hodinu, napr. 14. jan o 8-mej\n",
    "df_pickdh = df_pickdrop[(df_pickdrop['pick_dt'].dt.day == 14) & (df_pickdrop['pick_dt'].dt.hour == 8)]"
   ]
  },
  {
   "cell_type": "code",
   "execution_count": null,
   "id": "484143fb-05aa-4f3f-b933-0d560c88c248",
   "metadata": {
    "tags": []
   },
   "outputs": [],
   "source": [
    "# px.scatter_mapbox je funkcia pre mapy v plotly\n",
    "mapa = px.scatter_mapbox(df_pickdh, lat='pick_lat', lon='pick_lon', mapbox_style=\"open-street-map\",\n",
    "                         zoom=10, color_discrete_sequence=[\"darkblue\"], width=500, height=500, opacity=0.3, \n",
    "                         title=f'Počet jázd: {df_pickdh.shape[0]}')\n",
    "mapa.update_traces(marker={\"size\": 4})\n",
    "mapa.update_layout(margin={'t': 25,'b': 0}, hovermode=False)\n",
    "mapa"
   ]
  },
  {
   "cell_type": "markdown",
   "id": "66cd79c8-5450-4e31-9147-35050dd89597",
   "metadata": {},
   "source": [
    "#### Funkcia pre nakreslenie mapy v oboch prípadoch. Vstupuje do nej frejma celkova (`df_pickdrop`), deň a hodina sú parametre "
   ]
  },
  {
   "cell_type": "code",
   "execution_count": null,
   "id": "53367e07-b305-494b-933d-5c74057c7988",
   "metadata": {
    "tags": []
   },
   "outputs": [],
   "source": [
    "def map_plot(frm, day, hour, pick=True):   # pick=False znamena, ze drop\n",
    "    col_prefix = 'pick_' if pick else 'drop_'\n",
    "    what = 'nástupy' if pick else 'výstupy'\n",
    "    df_dh = frm[(frm[f'{col_prefix}dt'].dt.day == day) & (frm[f'{col_prefix}dt'].dt.hour == hour)]\n",
    "    mapa = px.scatter_mapbox(df_dh, lat=f'{col_prefix}lat', lon=f'{col_prefix}lon', mapbox_style=\"open-street-map\", \n",
    "                         zoom=10, color_discrete_sequence=[\"darkblue\"], width=500, height=500, opacity=0.3,\n",
    "                         title=f'Počet jázd, {what}: {df_dh.shape[0]}')\n",
    "    mapa.update_traces(marker={\"size\": 4})\n",
    "    mapa.update_layout(margin={'t': 30, 'b': 10}, hovermode=False)\n",
    "    return mapa"
   ]
  },
  {
   "cell_type": "code",
   "execution_count": null,
   "id": "52733d35-9981-44f3-97fa-276fb93b3f28",
   "metadata": {
    "tags": []
   },
   "outputs": [],
   "source": [
    "pn.Row(map_plot(df_pickdrop, 26, 12), map_plot(df_pickdrop, 26, 12, False))"
   ]
  },
  {
   "cell_type": "markdown",
   "id": "dd97ccdc-aa2d-4b8a-85d0-18f3e2f3129a",
   "metadata": {},
   "source": [
    "###  Nezabudnime skopčiť funkciu `map_plot` do `data_funkcie_py`.\n",
    "### V ďalšom NB dáme dokopy všetko, čo sme doteraz porobili a začne sa rysovať webová aplikácia.\n"
   ]
  }
 ],
 "metadata": {
  "kernelspec": {
   "display_name": "Python 3 (ipykernel)",
   "language": "python",
   "name": "python3"
  },
  "language_info": {
   "codemirror_mode": {
    "name": "ipython",
    "version": 3
   },
   "file_extension": ".py",
   "mimetype": "text/x-python",
   "name": "python",
   "nbconvert_exporter": "python",
   "pygments_lexer": "ipython3",
   "version": "3.11.7"
  }
 },
 "nbformat": 4,
 "nbformat_minor": 5
}
