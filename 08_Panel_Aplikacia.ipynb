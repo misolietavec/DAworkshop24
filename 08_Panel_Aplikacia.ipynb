{
 "cells": [
  {
   "cell_type": "code",
   "execution_count": null,
   "id": "592958ad-4e97-4be5-813e-3fed4677c94a",
   "metadata": {
    "tags": []
   },
   "outputs": [],
   "source": [
    "import panel as pn\n",
    "import panel.widgets as pnw\n",
    "from final.data_funkcie import pick_plot, drop_plot, view_month_week, daily_plot, histo_dists, histo_times \n",
    "pn.extension('plotly', 'ipywidgets')\n",
    "# vsimnime si, ze ziadnu datafrejmu neimportujeme, vsetko sa deje v data_funkcie"
   ]
  },
  {
   "cell_type": "code",
   "execution_count": null,
   "id": "5c685bc4-e9d3-41f4-841b-59bc3a7ccc00",
   "metadata": {
    "tags": []
   },
   "outputs": [],
   "source": [
    "# widgety, graficke prvky\n",
    "day_choose = pnw.IntSlider(start=1, end=31, value=14, width=250, name='Deň')\n",
    "hour_choose = pnw.IntSlider(start=0, end=23, value=11, width=300, name='Hodina')\n",
    "direction = pnw.RadioBoxGroup(options=['Nástup','Výstup'], inline=True)\n",
    "day_hour_choose = pnw.RadioBoxGroup(options=['Podľa dní','Podľa hodín', 'Dni v týždni (nástupy)'], inline=True)\n",
    "nbins_choose = pnw.IntSlider(start=10, end=120, value=20, width=250, name='Počet tried')\n",
    "# percentily pre histogramy, nove\n",
    "quant_choose = pnw.IntSlider(start=5, end=95, step=5, value=50, width=250, name='Percentil')"
   ]
  },
  {
   "cell_type": "markdown",
   "id": "54226842-3a1c-43ec-a95e-7b4e701a24d9",
   "metadata": {},
   "source": [
    "#### Aplikácia bude kvôli prehľadnosti v tab-och (záložkách). Pre začiatok dáme mesačné grafy a mapu"
   ]
  },
  {
   "cell_type": "code",
   "execution_count": null,
   "id": "09d427fb-f0a7-46ff-95c3-1025186aa80e",
   "metadata": {
    "tags": []
   },
   "outputs": [],
   "source": [
    "bind_monthly = pn.bind(view_month_week, doh=day_hour_choose)\n",
    "tab_monthly = pn.Column(day_hour_choose, bind_monthly)"
   ]
  },
  {
   "cell_type": "code",
   "execution_count": null,
   "id": "f5a1c057-538b-455a-8d93-633c989e5687",
   "metadata": {
    "tags": []
   },
   "outputs": [],
   "source": [
    "# ako v 07_\n",
    "bind_pick = pn.bind(pick_plot, day=day_choose, hour=hour_choose)\n",
    "bind_drop = pn.bind(drop_plot, day=day_choose, hour=hour_choose)\n",
    "tab_map = pn.Column(pn.Row(day_choose, hour_choose), pn.Row(bind_pick, bind_drop))"
   ]
  },
  {
   "cell_type": "code",
   "execution_count": null,
   "id": "374fa8cb-cb9b-4826-a768-8a66fcd9caa8",
   "metadata": {
    "tags": []
   },
   "outputs": [],
   "source": [
    "tabs = pn.Tabs(('Grafy mesačné', tab_monthly),\n",
    "               ('Miesta na mape', tab_map), dynamic=True)  # co je dynamic\n",
    "tabs.servable() # vyskusat panel preview"
   ]
  },
  {
   "cell_type": "markdown",
   "id": "aed92864-4419-48db-89a8-4e8d47257812",
   "metadata": {},
   "source": [
    "### Ďalej už len pridávame taby, príp. aj nadpis nakoniec"
   ]
  },
  {
   "cell_type": "code",
   "execution_count": null,
   "id": "3a490c8f-c565-456f-9681-6e391b8ad37e",
   "metadata": {
    "tags": []
   },
   "outputs": [],
   "source": [
    "bind_daily = pn.bind(daily_plot, day=day_choose)\n",
    "tab_daily = pn.Column(day_choose, bind_daily)"
   ]
  },
  {
   "cell_type": "code",
   "execution_count": null,
   "id": "037bd3b0-118b-49b7-b224-67d690311f69",
   "metadata": {
    "tags": []
   },
   "outputs": [],
   "source": [
    "# tu pridane - kvantily (percentily)\n",
    "bind_dists = pn.bind(histo_dists, bins=nbins_choose, quant=quant_choose)\n",
    "bind_times = pn.bind(histo_times, bins=nbins_choose, quant=quant_choose)\n",
    "tab_histo = pn.Column(pn.Row(nbins_choose, quant_choose), bind_dists, bind_times)"
   ]
  },
  {
   "cell_type": "code",
   "execution_count": null,
   "id": "f1ccb543-1ff0-42ea-ae35-d7443a82942e",
   "metadata": {
    "tags": []
   },
   "outputs": [],
   "source": [
    "tabs = pn.Tabs(('Grafy mesačné', tab_monthly), ('Miesta na mape', tab_map), \n",
    "               ('Grafy po dňoch', tab_daily), (\"Histogramy\", tab_histo), dynamic=True) "
   ]
  },
  {
   "cell_type": "code",
   "execution_count": null,
   "id": "49bf4430-f5df-4ef1-843e-3401285c8932",
   "metadata": {
    "tags": []
   },
   "outputs": [],
   "source": [
    "nadpis = pn.pane.Markdown(\n",
    "    \"\"\"\n",
    "    # Taxi v New Yorku\n",
    "    ### Dáta z januára 2015, vzorka 310000 zápisov, celkovo je ich vyše 11 mil.\n",
    "    \"\"\")"
   ]
  },
  {
   "cell_type": "code",
   "execution_count": null,
   "id": "cd148dab-22ce-4ece-910d-8c7950be4d51",
   "metadata": {
    "tags": []
   },
   "outputs": [],
   "source": [
    "# app = pn.Column(nadpis, tabs).servable()\n",
    "# app"
   ]
  }
 ],
 "metadata": {
  "kernelspec": {
   "display_name": "Python 3 (ipykernel)",
   "language": "python",
   "name": "python3"
  },
  "language_info": {
   "codemirror_mode": {
    "name": "ipython",
    "version": 3
   },
   "file_extension": ".py",
   "mimetype": "text/x-python",
   "name": "python",
   "nbconvert_exporter": "python",
   "pygments_lexer": "ipython3",
   "version": "3.11.7"
  }
 },
 "nbformat": 4,
 "nbformat_minor": 5
}
