{
 "cells": [
  {
   "cell_type": "code",
   "execution_count": null,
   "id": "779bddb4-dd6b-4449-ab7f-98b8a456cdd4",
   "metadata": {
    "tags": []
   },
   "outputs": [],
   "source": [
    "import polars as pl\n",
    "import plotly.express as px"
   ]
  },
  {
   "cell_type": "markdown",
   "id": "376634e3-b538-4f39-bf46-9ada0441aa3c",
   "metadata": {},
   "source": [
    "### Pre každý deň by sme chceli znázorniť grafy po hodinách. Urobíme pre nástupy"
   ]
  },
  {
   "cell_type": "code",
   "execution_count": null,
   "id": "889e0edd-138d-4bb9-9a1d-5fed663d1c67",
   "metadata": {
    "tags": []
   },
   "outputs": [],
   "source": [
    "# nacitame vycistenu frejmu, len stlpce, co pouzijeme v tomto NB\n",
    "cols = ['pick_dt', 'passengers', 'fare']\n",
    "df = pl.scan_parquet('data/nyc_taxi310k.parq')\n",
    "df = df.select(cols).collect()     "
   ]
  },
  {
   "cell_type": "code",
   "execution_count": null,
   "id": "e7cf7729-6cf1-4383-b437-ea3bc59cf006",
   "metadata": {
    "tags": []
   },
   "outputs": [],
   "source": [
    "# Potrebujeme zoskupit data podla dni a hodin; groupped sama o sebe je nam netreba\n",
    "groupped = df.group_by(pl.col('pick_dt').dt.day().alias('pick_day'), \n",
    "                       pl.col('pick_dt').dt.hour().alias('pick_hour'))"
   ]
  },
  {
   "cell_type": "code",
   "execution_count": null,
   "id": "64130070-fc8e-40ad-8122-99774a15b8d3",
   "metadata": {
    "tags": []
   },
   "outputs": [],
   "source": [
    "kolko = 5\n",
    "for name, data in groupped:  \n",
    "    print(name)\n",
    "    print(data)\n",
    "    kolko -= 1\n",
    "    if not kolko:\n",
    "        break"
   ]
  },
  {
   "cell_type": "code",
   "execution_count": null,
   "id": "8768550c-dd5c-4df0-8e60-23587a73a836",
   "metadata": {
    "tags": []
   },
   "outputs": [],
   "source": [
    "df_days = groupped.agg([pl.col('passengers').sum().alias('pass_count'),\n",
    "                        pl.col('fare').count().alias('fares_count'),\n",
    "                        pl.col('fare').sum().alias('total_fare')])"
   ]
  },
  {
   "cell_type": "code",
   "execution_count": null,
   "id": "d9610847-5aec-403c-9531-959368d6cfb3",
   "metadata": {
    "tags": []
   },
   "outputs": [],
   "source": [
    "df_days.sort(by='pick_day').head()"
   ]
  },
  {
   "cell_type": "code",
   "execution_count": null,
   "id": "473489c0-d669-40d1-8afe-bfd80e35188f",
   "metadata": {
    "tags": []
   },
   "outputs": [],
   "source": [
    "# ako vyberieme jeden den? lahko.\n",
    "df_days.filter(pl.col('pick_day') == 14).sort(by='pick_hour').head()\n",
    "df_days.columns"
   ]
  },
  {
   "cell_type": "code",
   "execution_count": null,
   "id": "72b2a484-c79f-4e8d-afe3-d70ac99100cf",
   "metadata": {},
   "outputs": [],
   "source": [
    "# mame vsetko, aby sme kreslili, nakopcime monthly_plot z data_funkcie a upravime\n",
    "def daily_plot(frm, day): # frm tu bude povyssia df_days\n",
    "    frm_day = frm.filter(pl.col('pick_day') == day).sort(by='pick_hour')\n",
    "    pass_fares_plot = px.bar(frm_day, x='pick_hour', y=['pass_count', 'fares_count'], barmode='group',\n",
    "                             labels={'pick_hour': 'Hodina', 'value': 'Hodnoty', 'variable': 'Premenná'})\n",
    "    pass_fares_plot.update_layout(xaxis=dict(tickmode='array', tickvals=list(range(24))))\n",
    "    return pass_fares_plot"
   ]
  },
  {
   "cell_type": "code",
   "execution_count": null,
   "id": "c6342dbc-e462-445b-8dc7-c2655eecaf99",
   "metadata": {
    "tags": []
   },
   "outputs": [],
   "source": [
    "daily_plot(df_days, 14)"
   ]
  },
  {
   "cell_type": "code",
   "execution_count": null,
   "id": "eef52e41-1855-4bcb-a441-d7c543011382",
   "metadata": {
    "tags": []
   },
   "outputs": [],
   "source": [
    "# este funkcia pre vyrobenie df_days z povodnej df; urobime grupovanie a agregacie na jeden sup\n",
    "def daily_frame(frm):   # vyvolame s df ako frm\n",
    "    df_days = df.group_by(pl.col('pick_dt').dt.day().alias('pick_day'), \n",
    "                          pl.col('pick_dt').dt.hour().alias('pick_hour'))\\\n",
    "                         .agg([pl.col('passengers').sum().alias('pass_count'),\n",
    "                               pl.col('fare').count().alias('fares_count'),\n",
    "                               pl.col('fare').sum().alias('total_fare')])\n",
    "    return df_days"
   ]
  },
  {
   "cell_type": "code",
   "execution_count": null,
   "id": "053e08d3-779c-4b32-a146-b29543c14edf",
   "metadata": {
    "tags": []
   },
   "outputs": [],
   "source": [
    "daily_frame(df).head()"
   ]
  },
  {
   "cell_type": "markdown",
   "id": "e434d99c-caf4-431d-963a-36fa2ccf66c4",
   "metadata": {
    "tags": []
   },
   "source": [
    "#### Obe funkcie, daily_frame aj daily_plot nakopčíme do `data_funkcie.py` pre budúce užitie"
   ]
  }
 ],
 "metadata": {
  "kernelspec": {
   "display_name": "Python 3 (ipykernel)",
   "language": "python",
   "name": "python3"
  },
  "language_info": {
   "codemirror_mode": {
    "name": "ipython",
    "version": 3
   },
   "file_extension": ".py",
   "mimetype": "text/x-python",
   "name": "python",
   "nbconvert_exporter": "python",
   "pygments_lexer": "ipython3",
   "version": "3.11.7"
  }
 },
 "nbformat": 4,
 "nbformat_minor": 5
}
