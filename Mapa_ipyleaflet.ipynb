{
 "cells": [
  {
   "cell_type": "code",
   "execution_count": null,
   "id": "b0bfe29c-42b6-4ae5-b031-9f2754201174",
   "metadata": {
    "tags": []
   },
   "outputs": [],
   "source": [
    "import polars as pl\n",
    "import panel as pn\n",
    "import panel.widgets as pnw\n",
    "import ipywidgets as ipw\n",
    "from ipyleaflet import Map, MarkerCluster, CircleMarker\n",
    "pn.extension('plotly', 'ipywidgets')"
   ]
  },
  {
   "cell_type": "code",
   "execution_count": null,
   "id": "2615c526-1980-4f1a-814c-0d03fbb9f9a3",
   "metadata": {
    "tags": []
   },
   "outputs": [],
   "source": [
    "df = pl.read_parquet('data/nyc_taxi310k.parq')"
   ]
  },
  {
   "cell_type": "code",
   "execution_count": null,
   "id": "7d5dbb11-6638-491a-97eb-a87be438437f",
   "metadata": {
    "tags": []
   },
   "outputs": [],
   "source": [
    "def make_map(pick=True):\n",
    "    col_prefix = 'pick_' if pick else 'drop_'\n",
    "    mean = [df[f'{col_prefix}lat'].mean(), df[f'{col_prefix}lon'].mean()]\n",
    "    mapa = Map(center=mean, zoom=11, layout=ipw.Layout(width='400px', height='500px'))\n",
    "    # preco body? budeme menit len atributy objektu mapa - center a body.markers\n",
    "    body = MarkerCluster(markers=[])\n",
    "    mapa.add(body)\n",
    "    return mapa, body, mean\n",
    "\n",
    "map_data = {'pick': make_map(pick=True), 'drop': make_map(pick=False)}"
   ]
  },
  {
   "cell_type": "code",
   "execution_count": null,
   "id": "3046b711-20c9-4244-a0eb-e34d3191056d",
   "metadata": {
    "tags": []
   },
   "outputs": [],
   "source": [
    "day_choose = pnw.IntSlider(start=1, end=31, value=14, width=250, name='Deň')\n",
    "hour_choose = pnw.IntSlider(start=0, end=23, value=11, width=300, name='Hodina')"
   ]
  },
  {
   "cell_type": "code",
   "execution_count": null,
   "id": "8489fc24-6b04-4edf-94f5-cca5c3c69b51",
   "metadata": {
    "tags": []
   },
   "outputs": [],
   "source": [
    "def view_map(day, hour, smer='pick'):\n",
    "    col_prefix = 'pick_' if smer=='pick' else 'drop_'\n",
    "    mapa, body, mean = map_data[smer]\n",
    "    df_dh = df.filter((pl.col(f'{col_prefix}dt').dt.day() == day) & (pl.col(f'{col_prefix}dt').dt.hour() == hour))\n",
    "    col_lat, col_lon = f'{col_prefix}lat', f'{col_prefix}lon'\n",
    "    lat, lon = df_dh[col_lat], df_dh[col_lon]\n",
    "    newcent = [lat.mean(), lon.mean()] if len(lat) else mean\n",
    "    mapa.center = newcent\n",
    "    marks = [CircleMarker(location=[lata, lona], radius=2) for lata, lona in zip(lat, lon)]\n",
    "    body.markers = marks\n",
    "    # mapa.zoom = 11\n",
    "    return mapa\n",
    "\n",
    "def pick_plot(day, hour):\n",
    "    return view_map(day, hour, smer='pick')\n",
    "\n",
    "def drop_plot(day, hour):\n",
    "    return view_map(day, hour, smer='drop')\n",
    "\n",
    "bind_pick = pn.bind(pick_plot, day=day_choose, hour=hour_choose)\n",
    "bind_drop = pn.bind(drop_plot, day=day_choose, hour=hour_choose)"
   ]
  },
  {
   "cell_type": "code",
   "execution_count": null,
   "id": "59bd9361-b5d4-4a67-8a77-aaf9a427ba0d",
   "metadata": {
    "tags": []
   },
   "outputs": [],
   "source": [
    "pn.Column(pn.Row(day_choose, hour_choose), pn.Row(bind_pick, bind_drop)).servable()"
   ]
  }
 ],
 "metadata": {
  "kernelspec": {
   "display_name": "Python 3 (ipykernel)",
   "language": "python",
   "name": "python3"
  },
  "language_info": {
   "codemirror_mode": {
    "name": "ipython",
    "version": 3
   },
   "file_extension": ".py",
   "mimetype": "text/x-python",
   "name": "python",
   "nbconvert_exporter": "python",
   "pygments_lexer": "ipython3",
   "version": "3.11.7"
  }
 },
 "nbformat": 4,
 "nbformat_minor": 5
}
